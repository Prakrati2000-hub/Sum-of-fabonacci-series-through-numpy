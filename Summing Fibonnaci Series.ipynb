{
 "cells": [
  {
   "cell_type": "markdown",
   "metadata": {},
   "source": [
    "# Summing Fibonacci numbers\n",
    "In this recipe, we will sum the even-valued terms in the Fibonacci sequence whose values do not exceed 4 million. The Fibonacci series is a sequence of integers starting with zero, where each number is the sum of the previous two, except (of course) the irst two numbers, zero and one (0, 1, 1, 2, 3, 5, 8, 13, 21, 34, 55, 89 ...). "
   ]
  },
  {
   "cell_type": "markdown",
   "metadata": {},
   "source": [
    "This recipe uses a formula based on the golden ratio, which is an irrational number with special properties comparable to pi. The golden ratio is given by the following formula:\n",
    "                    ϕ=1+sq.rt(5)/2"
   ]
  },
  {
   "cell_type": "markdown",
   "metadata": {},
   "source": [
    "We will use the sqrt(), log(), arange(), astype(), and sum() functions. The Fibonacci sequence's recurrence relation has the following solution, which involves the golden ratio:\n",
    "                fn=phi^n-(-phi^-n)/sq.rt(5)"
   ]
  },
  {
   "cell_type": "markdown",
   "metadata": {},
   "source": [
    "# How to do it..."
   ]
  },
  {
   "cell_type": "code",
   "execution_count": 8,
   "metadata": {},
   "outputs": [
    {
     "name": "stdout",
     "output_type": "stream",
     "text": [
      "Phi 1.618033988749895\n"
     ]
    }
   ],
   "source": [
    "import numpy as np\n",
    "#1. Calculate phi\n",
    "phi = (1 + np.sqrt(5))/2 \n",
    "print(\"Phi\", phi)\n"
   ]
  },
  {
   "cell_type": "code",
   "execution_count": 16,
   "metadata": {},
   "outputs": [
    {
     "name": "stdout",
     "output_type": "stream",
     "text": [
      "33.26294803586825\n",
      "[ 1.  2.  3.  4.  5.  6.  7.  8.  9. 10. 11. 12. 13. 14. 15. 16. 17. 18.\n",
      " 19. 20. 21. 22. 23. 24. 25. 26. 27. 28. 29. 30. 31. 32. 33.]\n"
     ]
    }
   ],
   "source": [
    "#2. Find the index below 4 million \n",
    "n = np.log(4 * 10 ** 6 * np.sqrt(5) + 0.5)/np.log(phi)\n",
    "print(n)\n",
    "\n",
    "#3. Create an array of 1-n \n",
    "n = np.arange(1, n) \n",
    "print(n)"
   ]
  },
  {
   "cell_type": "code",
   "execution_count": 18,
   "metadata": {},
   "outputs": [
    {
     "name": "stdout",
     "output_type": "stream",
     "text": [
      "First 9 Fibonacci Numbers [ 1.  1.  2.  3.  5.  8. 13. 21. 34.]\n"
     ]
    }
   ],
   "source": [
    "#4. Compute Fibonacci numbers\n",
    "fib = (phi**n - (-1/phi)**n)/np.sqrt(5) \n",
    "print(\"First 9 Fibonacci Numbers\", fib[:9])\n"
   ]
  },
  {
   "cell_type": "code",
   "execution_count": 20,
   "metadata": {},
   "outputs": [
    {
     "name": "stdout",
     "output_type": "stream",
     "text": [
      "Integers [      1       1       2       3       5       8      13      21      34\n",
      "      55      89     144     233     377     610     987    1597    2584\n",
      "    4181    6765   10946   17711   28657   46368   75025  121393  196418\n",
      "  317811  514229  832040 1346269 2178309 3524578]\n"
     ]
    }
   ],
   "source": [
    "#5. Convert to integers\n",
    "# optional \n",
    "fib = fib.astype(int) \n",
    "print(\"Integers\", fib)\n"
   ]
  },
  {
   "cell_type": "code",
   "execution_count": 22,
   "metadata": {},
   "outputs": [
    {
     "name": "stdout",
     "output_type": "stream",
     "text": [
      "[      2       8      34     144     610    2584   10946   46368  196418\n",
      "  832040 3524578]\n"
     ]
    }
   ],
   "source": [
    "#6. Select even-valued terms \n",
    "eventerms = fib[fib % 2 == 0] \n",
    "print(eventerms)\n"
   ]
  },
  {
   "cell_type": "code",
   "execution_count": 29,
   "metadata": {},
   "outputs": [
    {
     "name": "stdout",
     "output_type": "stream",
     "text": [
      "4613732\n"
     ]
    }
   ],
   "source": [
    "#7. Sum the selected terms \n",
    "print(eventerms.sum()) "
   ]
  },
  {
   "cell_type": "markdown",
   "metadata": {},
   "source": [
    "The first thing to do is calculate the golden ratio "
   ]
  },
  {
   "cell_type": "code",
   "execution_count": 41,
   "metadata": {},
   "outputs": [
    {
     "name": "stdout",
     "output_type": "stream",
     "text": [
      "Phi 1.618033988749895\n"
     ]
    }
   ],
   "source": [
    "#1. Use the sqrt() function to calculate the square root of 5: \n",
    "phi = (1 + np.sqrt(5))/2 \n",
    "print(\"Phi\", phi)"
   ]
  },
  {
   "cell_type": "code",
   "execution_count": 34,
   "metadata": {},
   "outputs": [
    {
     "name": "stdout",
     "output_type": "stream",
     "text": [
      "33.26294803586825\n"
     ]
    }
   ],
   "source": [
    "# 2. Next, in the recipe, we need to ind the index of the Fibonacci number below 4 million. A formula for this is given in the Wikipedia page, and we will compute it using that formula. All we need to do is convert log bases with the log() function. We don't need to round the result down to the closest integer. This is automatically done for us in the next step of the recipe: \n",
    "n = np.log(4 * 10 ** 6 * np.sqrt(5)      + 0.5)/np.log(phi)\n",
    "print(n)"
   ]
  },
  {
   "cell_type": "code",
   "execution_count": 35,
   "metadata": {},
   "outputs": [],
   "source": [
    "# 3. The arange() function is a very basic function that many people know. Still, we will mention it here for completeness: \n",
    "n = np.arange(1, n)"
   ]
  },
  {
   "cell_type": "code",
   "execution_count": 37,
   "metadata": {},
   "outputs": [
    {
     "name": "stdout",
     "output_type": "stream",
     "text": [
      "First 9 Fibonacci Numbers [ 1.  1.  2.  3.  5.  8. 13. 21. 34.]\n"
     ]
    }
   ],
   "source": [
    "# 4. There is a convenient formula we can use to calculate the Fibonacci numbers. We will need the golden ratio and the array from the previous step in this recipe as input parameters. Print the irst nine Fibonacci numbers to check the result: \n",
    "fib = (phi**n - (-1/phi)**n)/np.sqrt(5)\n",
    "print(\"First 9 Fibonacci Numbers\", fib[:9])\n"
   ]
  },
  {
   "cell_type": "code",
   "execution_count": 39,
   "metadata": {},
   "outputs": [
    {
     "name": "stdout",
     "output_type": "stream",
     "text": [
      "Integers [      1       1       2       3       5       8      13      21      34\n",
      "      55      89     144     233     377     610     987    1597    2584\n",
      "    4181    6765   10946   17711   28657   46368   75025  121393  196418\n",
      "  317811  514229  832040 1346269 2178309 3524578]\n"
     ]
    }
   ],
   "source": [
    "# 5. Convert to integers. This step is optional. I think it's nice to have an integer result at the end. Okay, I actually wanted to show you the astype() function:\n",
    "fib = fib.astype(int)\n",
    "print(\"Integers\", fib) "
   ]
  },
  {
   "cell_type": "code",
   "execution_count": 40,
   "metadata": {},
   "outputs": [
    {
     "name": "stdout",
     "output_type": "stream",
     "text": [
      "[      2       8      34     144     610    2584   10946   46368  196418\n",
      "  832040 3524578]\n"
     ]
    }
   ],
   "source": [
    "# 6. Select the even-valued terms. This recipe demands that we select the even-valued terms now. This should be easy for you if you followed the Indexing with Booleans recipe in Chapter 2, Advanced Indexing and Array Concepts: \n",
    "eventerms = fib[fib % 2 == 0]\n",
    "print(eventerms) "
   ]
  }
 ],
 "metadata": {
  "kernelspec": {
   "display_name": "Python 3",
   "language": "python",
   "name": "python3"
  },
  "language_info": {
   "codemirror_mode": {
    "name": "ipython",
    "version": 3
   },
   "file_extension": ".py",
   "mimetype": "text/x-python",
   "name": "python",
   "nbconvert_exporter": "python",
   "pygments_lexer": "ipython3",
   "version": "3.7.4"
  }
 },
 "nbformat": 4,
 "nbformat_minor": 2
}
